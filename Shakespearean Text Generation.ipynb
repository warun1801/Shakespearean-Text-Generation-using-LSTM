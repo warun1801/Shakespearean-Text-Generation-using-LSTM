{
 "cells": [
  {
   "cell_type": "code",
   "execution_count": 15,
   "metadata": {},
   "outputs": [
    {
     "name": "stdout",
     "output_type": "stream",
     "text": [
      "[\"shakespeare-db\\\\All's Well That Ends Well.txt\", 'shakespeare-db\\\\Antony and Cleopatra.txt', 'shakespeare-db\\\\As You Like It.txt', 'shakespeare-db\\\\Comedy of Errors.txt', 'shakespeare-db\\\\Coriolanus.txt', 'shakespeare-db\\\\Cymbeline.txt', 'shakespeare-db\\\\Hamlet.txt', 'shakespeare-db\\\\Henry IV, part 1.txt', 'shakespeare-db\\\\Henry IV, part 2.txt', 'shakespeare-db\\\\Henry V.txt', 'shakespeare-db\\\\Henry VI, part 1.txt', 'shakespeare-db\\\\Henry VI, part 2.txt', 'shakespeare-db\\\\Henry VI, part 3.txt', 'shakespeare-db\\\\Henry VIII.txt', 'shakespeare-db\\\\Julius Caesar.txt', 'shakespeare-db\\\\King John.txt', 'shakespeare-db\\\\King Lear.txt', \"shakespeare-db\\\\Love's Labour's Lost.txt\", 'shakespeare-db\\\\Macbeth.txt', 'shakespeare-db\\\\Measure for Measure.txt', 'shakespeare-db\\\\Merchant of Venice.txt', 'shakespeare-db\\\\Merry Wives of Windsor.txt', \"shakespeare-db\\\\Midsummer Night's Dream.txt\", 'shakespeare-db\\\\Much Ado About Nothing.txt', 'shakespeare-db\\\\Othello.txt', 'shakespeare-db\\\\Pericles.txt', 'shakespeare-db\\\\Richard II.txt', 'shakespeare-db\\\\Richard III.txt', 'shakespeare-db\\\\Romeo and Juliet.txt', 'shakespeare-db\\\\Taming of the Shrew.txt', 'shakespeare-db\\\\The Tempest.txt', 'shakespeare-db\\\\Timon of Athens.txt', 'shakespeare-db\\\\Titus Andronicus.txt', 'shakespeare-db\\\\Troiles and Cressida.txt', 'shakespeare-db\\\\Twelfth Night.txt', 'shakespeare-db\\\\Two Gentlemen of Verona.txt']\n"
     ]
    }
   ],
   "source": [
    "import os\n",
    "txt_files = glob.glob(\"shakespeare-db/*.txt\")\n",
    "print(txt_files)"
   ]
  },
  {
   "cell_type": "code",
   "execution_count": 16,
   "metadata": {},
   "outputs": [],
   "source": [
    "text = \"\"\n",
    "\n",
    "for name in txt_files:\n",
    "    with open(txt_files[0],'rt') as fd:\n",
    "        st = fd.readlines()\n",
    "        text+=(\" \".join(st))"
   ]
  },
  {
   "cell_type": "code",
   "execution_count": 21,
   "metadata": {},
   "outputs": [
    {
     "name": "stdout",
     "output_type": "stream",
     "text": [
      "\n",
      " \n",
      " \n",
      " \n",
      "                            all's well that ends well\n",
      " shakespeare_homepage | all's_well_that_ends_well | entire play\n",
      " **** act i ****\n",
      " **** scene i. rousillon. the count's palace. ****\n",
      "      enter bertram, the countess of rousillon, helena, and lafeu, all in\n",
      "      black\n",
      " countess\n",
      "      in delivering my son from me, i bury a second husband.\n",
      " bertram\n",
      "      and i in going, madam, weep o'er my father's death\n",
      "      anew: but i must attend his majesty's command, to\n",
      "      whom i am now in ward, evermore in subjection.\n",
      " lafeu\n",
      "      you shall find of the king a husband, madam; you,\n",
      "      sir, a father: he that so generally is at all times\n",
      "      good must of necessity hold his virtue to you; whose\n",
      "      worthiness would stir it up where it wanted rather\n",
      "      than lack it where there is such abundance.\n",
      " countess\n",
      "      what hope is there of his majesty's amendment?\n",
      " lafeu\n",
      "      he hath abandoned his physicians, madam; under whose\n",
      "      practises he hath persecuted time with hope, and\n",
      "    \n"
     ]
    }
   ],
   "source": [
    "print(text[:1000])"
   ]
  },
  {
   "cell_type": "code",
   "execution_count": 20,
   "metadata": {},
   "outputs": [
    {
     "name": "stdout",
     "output_type": "stream",
     "text": [
      "Corpus Length: 5380776\n"
     ]
    }
   ],
   "source": [
    "print('Corpus Length:',len(text))\n",
    "text = text.lower()"
   ]
  },
  {
   "cell_type": "code",
   "execution_count": 19,
   "metadata": {},
   "outputs": [
    {
     "name": "stderr",
     "output_type": "stream",
     "text": [
      "Using TensorFlow backend.\n",
      "C:\\Users\\HP\\Anaconda3\\lib\\site-packages\\tensorflow\\python\\framework\\dtypes.py:526: FutureWarning: Passing (type, 1) or '1type' as a synonym of type is deprecated; in a future version of numpy, it will be understood as (type, (1,)) / '(1,)type'.\n",
      "  _np_qint8 = np.dtype([(\"qint8\", np.int8, 1)])\n",
      "C:\\Users\\HP\\Anaconda3\\lib\\site-packages\\tensorflow\\python\\framework\\dtypes.py:527: FutureWarning: Passing (type, 1) or '1type' as a synonym of type is deprecated; in a future version of numpy, it will be understood as (type, (1,)) / '(1,)type'.\n",
      "  _np_quint8 = np.dtype([(\"quint8\", np.uint8, 1)])\n",
      "C:\\Users\\HP\\Anaconda3\\lib\\site-packages\\tensorflow\\python\\framework\\dtypes.py:528: FutureWarning: Passing (type, 1) or '1type' as a synonym of type is deprecated; in a future version of numpy, it will be understood as (type, (1,)) / '(1,)type'.\n",
      "  _np_qint16 = np.dtype([(\"qint16\", np.int16, 1)])\n",
      "C:\\Users\\HP\\Anaconda3\\lib\\site-packages\\tensorflow\\python\\framework\\dtypes.py:529: FutureWarning: Passing (type, 1) or '1type' as a synonym of type is deprecated; in a future version of numpy, it will be understood as (type, (1,)) / '(1,)type'.\n",
      "  _np_quint16 = np.dtype([(\"quint16\", np.uint16, 1)])\n",
      "C:\\Users\\HP\\Anaconda3\\lib\\site-packages\\tensorflow\\python\\framework\\dtypes.py:530: FutureWarning: Passing (type, 1) or '1type' as a synonym of type is deprecated; in a future version of numpy, it will be understood as (type, (1,)) / '(1,)type'.\n",
      "  _np_qint32 = np.dtype([(\"qint32\", np.int32, 1)])\n",
      "C:\\Users\\HP\\Anaconda3\\lib\\site-packages\\tensorflow\\python\\framework\\dtypes.py:535: FutureWarning: Passing (type, 1) or '1type' as a synonym of type is deprecated; in a future version of numpy, it will be understood as (type, (1,)) / '(1,)type'.\n",
      "  np_resource = np.dtype([(\"resource\", np.ubyte, 1)])\n"
     ]
    }
   ],
   "source": [
    "from __future__ import print_function\n",
    "import keras\n",
    "from keras.callbacks import LambdaCallback\n",
    "from keras.models import Sequential\n",
    "from keras.layers import Dense\n",
    "from keras.layers import LSTM\n",
    "from keras.optimizers import RMSprop\n",
    "import numpy as np\n",
    "import random\n",
    "import sys\n",
    "import io"
   ]
  },
  {
   "cell_type": "code",
   "execution_count": 22,
   "metadata": {},
   "outputs": [
    {
     "name": "stdout",
     "output_type": "stream",
     "text": [
      "Total Chars:  42\n"
     ]
    }
   ],
   "source": [
    "chars = sorted(list(set(text)))\n",
    "print('Total Chars: ',len(chars))\n",
    "char_indices = dict((c,i) for i,c in enumerate(chars))\n",
    "indices_char = dict((i,c) for i,c in enumerate(chars))"
   ]
  },
  {
   "cell_type": "code",
   "execution_count": 25,
   "metadata": {},
   "outputs": [
    {
     "name": "stdout",
     "output_type": "stream",
     "text": [
      "no. sequences: 1793579\n"
     ]
    }
   ],
   "source": [
    "maxlen = 40\n",
    "step = 3\n",
    "sentences = []\n",
    "next_chars = []\n",
    "for i in range(0,len(text)-maxlen,step):\n",
    "    sentences.append(text[i:i+maxlen])\n",
    "    next_chars.append(text[i+maxlen])\n",
    "print('no. sequences:', len(sentences))"
   ]
  },
  {
   "cell_type": "code",
   "execution_count": 27,
   "metadata": {},
   "outputs": [],
   "source": [
    "x = np.zeros((len(sentences),maxlen,len(chars)),dtype=np.bool)\n",
    "y = np.zeros((len(sentences),len(chars)),dtype=np.bool)\n",
    "for i,sentence in enumerate(sentences):\n",
    "    for t,char in enumerate(sentence):\n",
    "        x[i,t,char_indices[char]] = 1\n",
    "    y[i,char_indices[next_chars[i]]] = 1"
   ]
  },
  {
   "cell_type": "code",
   "execution_count": 29,
   "metadata": {},
   "outputs": [],
   "source": [
    "###Building the Model###"
   ]
  },
  {
   "cell_type": "code",
   "execution_count": 32,
   "metadata": {},
   "outputs": [
    {
     "name": "stdout",
     "output_type": "stream",
     "text": [
      "Build Model..\n",
      "WARNING:tensorflow:From C:\\Users\\HP\\Anaconda3\\lib\\site-packages\\tensorflow\\python\\ops\\resource_variable_ops.py:435: colocate_with (from tensorflow.python.framework.ops) is deprecated and will be removed in a future version.\n",
      "Instructions for updating:\n",
      "Colocations handled automatically by placer.\n"
     ]
    }
   ],
   "source": [
    "print(\"Build Model..\")\n",
    "model = Sequential()\n",
    "model.add(LSTM(128,input_shape=(maxlen,len(chars))))\n",
    "model.add(Dense(len(chars),activation='softmax'))\n",
    "\n",
    "optimizer = RMSprop(learning_rate=0.01)\n",
    "model.compile(loss='categorical_crossentropy',optimizer=optimizer)"
   ]
  },
  {
   "cell_type": "code",
   "execution_count": 33,
   "metadata": {},
   "outputs": [],
   "source": [
    "def sample(preds,temperature=1.0):\n",
    "    preds = np.asarray(preds).astype('float64')\n",
    "    preds = np.log(preds)/temperature\n",
    "    exp_preds = np.exp(preds)\n",
    "    preds = exp_preds/np.sum(exp_preds) #for normalizing\n",
    "    pb = np.random.multinomial(1,preds,1) #for selecting a depending based on probability\n",
    "    return np.argmax(pb)"
   ]
  },
  {
   "cell_type": "code",
   "execution_count": 37,
   "metadata": {},
   "outputs": [],
   "source": [
    "##https://www.tensorflow.org/api_docs/python/tf/keras/callbacks/LambdaCallback##"
   ]
  },
  {
   "cell_type": "code",
   "execution_count": 38,
   "metadata": {},
   "outputs": [],
   "source": [
    "#for LambdaCallback\n",
    "\n",
    "def on_epoch_end(epoch,_):\n",
    "    print()\n",
    "    print('----- Generating text after Epoch: %d' % epoch)\n",
    "\n",
    "    start_index = random.randint(0, len(text) - maxlen - 1)\n",
    "    for diversity in [0.2, 0.5, 1.0, 1.2]:\n",
    "        print('----- diversity:', diversity)\n",
    "\n",
    "        generated = ''\n",
    "        sentence = text[start_index: start_index + maxlen]\n",
    "        generated += sentence\n",
    "        print('----- Generating with seed: \"' + sentence + '\"')\n",
    "        sys.stdout.write(generated)\n",
    "\n",
    "        for i in range(400):\n",
    "            x_pred = np.zeros((1, maxlen, len(chars)))\n",
    "            for t, char in enumerate(sentence):\n",
    "                x_pred[0, t, char_indices[char]] = 1.\n",
    "\n",
    "            preds = model.predict(x_pred, verbose=0)[0]\n",
    "            next_index = sample(preds, diversity)\n",
    "            next_char = indices_char[next_index]\n",
    "\n",
    "            sentence = sentence[1:] + next_char\n",
    "\n",
    "            sys.stdout.write(next_char)\n",
    "            sys.stdout.flush()\n",
    "        print()\n",
    "    "
   ]
  },
  {
   "cell_type": "code",
   "execution_count": 39,
   "metadata": {},
   "outputs": [],
   "source": [
    "print_callback = LambdaCallback(on_epoch_end=on_epoch_end)"
   ]
  },
  {
   "cell_type": "code",
   "execution_count": 41,
   "metadata": {},
   "outputs": [
    {
     "name": "stdout",
     "output_type": "stream",
     "text": [
      "Epoch 1/2\n",
      "1793579/1793579 [==============================] - 2190s 1ms/step - loss: 0.9007\n",
      "\n",
      "----- Generating text after Epoch: 0\n",
      "----- diversity: 0.2\n",
      "----- Generating with seed: \"t the white death sit on thy cheek for e\"\n",
      "t the white death sit on thy cheek for ence her parolles\n",
      "      more than in he more to praroour marit?\n",
      " first lord\n",
      "      i have no our i wore mers, in that her parter.\n",
      " helena\n",
      "      if her head.\n",
      " paro"
     ]
    },
    {
     "name": "stderr",
     "output_type": "stream",
     "text": [
      "C:\\Users\\HP\\Anaconda3\\lib\\site-packages\\ipykernel_launcher.py:3: RuntimeWarning: divide by zero encountered in log\n",
      "  This is separate from the ipykernel package so we can avoid doing imports until\n"
     ]
    },
    {
     "name": "stdout",
     "output_type": "stream",
     "text": [
      "lles\n",
      "      i have no hir beeding print thou art me\n",
      "      in that i have no hir beed intonted the\n",
      "      wisle me sense as more to prarost you, and that he hourselves:\n",
      "      i am friend brood marr; and the sake the friendly her hearts;\n",
      "      \n",
      "----- diversity: 0.5\n",
      "----- Generating with seed: \"t the white death sit on thy cheek for e\"\n",
      "t the white death sit on thy cheek for ence\n",
      "      flest that at stears erous contreat of\n",
      "      if i had ham hee it do you: there's no here;\n",
      "      that well despeat her procher do mend, sir; i have and\n",
      "      his lost the plamer the fiend the paroin to this\n",
      "      more to scarr; i nate in here is not and my repeated\n",
      "      and stell the shall be bother her part to her.\n",
      " helena\n",
      "      where in me and care strefent of stratt\n",
      "      in the reper\n",
      "----- diversity: 1.0\n",
      "----- Generating with seed: \"t the white death sit on thy cheek for e\"\n",
      "t the white death sit on thy cheek for elt\n",
      "      than thou tamaning on't he has dead it?  fine.\n",
      " clown\n",
      "      you shoth less thee.\n",
      " bertram\n",
      "      mare worem fortune and more midst?\n",
      "      helen, the count you sake muskmoniance,\n",
      "      and carre, court the progest than in hosurserfol, oather.\n",
      " countess\n",
      "      so very thine erous contentes. she this trut constrais.\n",
      " king\n",
      "      i am at so protibe in that read his repedfed:\n",
      "      no you to love\n",
      "----- diversity: 1.2\n",
      "----- Generating with seed: \"t the white death sit on thy cheek for e\"\n",
      "t the white death sit on thy cheek for eite. vide is nom.\n",
      "      togine piint, mure.\n",
      " helena\n",
      "      thou art place dood, how thy eateur of\n",
      "      strange oaatt dilits, retent one !\n",
      " lafeu\n",
      "      i praising; for whom hereword\n",
      "      you low therefow hert's constatest gritious\n",
      "      fencrathoumsent, kin of old proves of marity thou\n",
      "      the count in its; good must good faits,\n",
      "      and mad if my partiress of my heaves.\n",
      " countess\n",
      "      all not\n",
      "Epoch 2/2\n",
      "1793579/1793579 [==============================] - 1431s 798us/step - loss: 0.6761\n",
      "\n",
      "----- Generating text after Epoch: 1\n",
      "----- diversity: 0.2\n",
      "----- Generating with seed: \"some two or three soldiers\n",
      " first lord\n",
      " \"\n",
      "some two or three soldiers\n",
      " first lord\n",
      "      i am your mother?\n",
      " helena\n",
      "      this vallanc: you must himsele dill your son:\n",
      "      and things a son things chidipt, sir, appray you\n",
      "      with this is your owelt.\n",
      " king\n",
      "      where i was crown:\n",
      "      there's one that intent his on's cannot me\n",
      "      wherefore? dare, sir, sir!\n",
      " lafeu\n",
      "      he sa, oo: well thou never begoun his clost and husted to be the wind to the\n",
      "      florence our passings \n",
      "----- diversity: 0.5\n",
      "----- Generating with seed: \"some two or three soldiers\n",
      " first lord\n",
      " \"\n",
      "some two or three soldiers\n",
      " first lord\n",
      "      this wore he heed: but for will well do apat you\n",
      "      when you knows are mistrest of a serve\n",
      "      the duk friend be alirs i am dispotch\n",
      "      of her must appersirain of him, you must\n",
      "      with his swack: be to flesher against here\n",
      "      disportition of my dod furth: he have her nothing,\n",
      "      and she save but have almy spick or lordship,\n",
      "      where her parolles.\n",
      " parolles\n",
      "      a shay, sp\n",
      "----- diversity: 1.0\n",
      "----- Generating with seed: \"some two or three soldiers\n",
      " first lord\n",
      " \"\n",
      "some two or three soldiers\n",
      " first lord\n",
      "      why son, sirly,-mogginess her heaven. is to reed.\n",
      " parolles\n",
      "      what's i', nay, he should subes the other?\n",
      " parolles\n",
      "      where will himgent, wherealtnce.\n",
      " parolles\n",
      "      they may my moble my reconse as after\n",
      "      praid, if theus proted: so virtue for to the world this\n",
      "      first not sometty unk weep tags. speas,\n",
      "      come noimost thy pears, and nobles: he\n",
      "      this she us there attem!\n",
      "----- diversity: 1.2\n",
      "----- Generating with seed: \"some two or three soldiers\n",
      " first lord\n",
      " \"\n",
      "some two or three soldiers\n",
      " first lord\n",
      "      no matest toke me a moother a knave in the\n",
      "      sayns afactuliss.\n",
      " clown\n",
      "      it is unly, ever it well; see thich meld\n",
      "      strikn our was chin'd space gut dother.\n",
      " helena\n",
      "      most thou takent gives known.\n",
      " helena\n",
      "      my honourky, my gotacands not howel goves and\n",
      "      there sirradive him that intevrtd.\n",
      " clown\n",
      "      nay, i his nagge, han such mine! befence,\n",
      "      the yam; 'filst cared.\n"
     ]
    },
    {
     "data": {
      "text/plain": [
       "<keras.callbacks.callbacks.History at 0x1ef915cd860>"
      ]
     },
     "execution_count": 41,
     "metadata": {},
     "output_type": "execute_result"
    }
   ],
   "source": [
    "model.fit(x, y,\n",
    "          batch_size=128,\n",
    "          epochs=2,\n",
    "          callbacks=[print_callback])"
   ]
  },
  {
   "cell_type": "code",
   "execution_count": null,
   "metadata": {},
   "outputs": [],
   "source": []
  }
 ],
 "metadata": {
  "kernelspec": {
   "display_name": "Python 3",
   "language": "python",
   "name": "python3"
  },
  "language_info": {
   "codemirror_mode": {
    "name": "ipython",
    "version": 3
   },
   "file_extension": ".py",
   "mimetype": "text/x-python",
   "name": "python",
   "nbconvert_exporter": "python",
   "pygments_lexer": "ipython3",
   "version": "3.7.3"
  }
 },
 "nbformat": 4,
 "nbformat_minor": 4
}
